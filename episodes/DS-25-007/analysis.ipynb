{
 "cells": [
  {
   "cell_type": "code",
   "execution_count": null,
   "id": "fb882cfd",
   "metadata": {
    "tags": [
     "load_table"
    ]
   },
   "outputs": [],
   "source": [
    "from ds_agent.data import load_table\n",
    "step_0 = None\n",
    "cache_key = ('load_table', (('cols', ('draft_round', 'to_year', 'draft_year', 'position', 'display_first_last', 'from_year', 'draft_number', 'season_exp', 'birthdate', 'weight', 'height', 'person_id')), ('source', 'common_player_info'), ('table', 'common_player_info'), ('where', \"(from_year >= 1990) and (display_first_last != 'Andrew Gaze') and (display_first_last != 'Ernie Barrett')\")))\n",
    "if hasattr(globals(), '_tool_cache') and cache_key in _tool_cache:\n",
    "    step_0 = _tool_cache[cache_key]\n",
    "else:\n",
    "    step_0 = load_table(table='common_player_info', cols=['draft_round', 'to_year', 'draft_year', 'position', 'display_first_last', 'from_year', 'draft_number', 'season_exp', 'birthdate', 'weight', 'height', 'person_id'], where=\"(from_year >= 1990) and (display_first_last != 'Andrew Gaze') and (display_first_last != 'Ernie Barrett')\", source='common_player_info')\n",
    "    if not hasattr(globals(), '_tool_cache'):\n",
    "        _tool_cache = {}\n",
    "    _tool_cache[cache_key] = step_0\n",
    "print(step_0)"
   ]
  },
  {
   "cell_type": "code",
   "execution_count": null,
   "id": "9f86125a",
   "metadata": {
    "tags": [
     "value_counts"
    ]
   },
   "outputs": [],
   "source": [
    "from ds_agent.analysis.analytics_tools import value_counts\n",
    "step_1 = None\n",
    "cache_key = ('value_counts', (('column', 'display_first_last'), ('df', 'step_0')))\n",
    "if hasattr(globals(), '_tool_cache') and cache_key in _tool_cache:\n",
    "    step_1 = _tool_cache[cache_key]\n",
    "else:\n",
    "    step_1 = value_counts(df=step_0, column='display_first_last')\n",
    "    if not hasattr(globals(), '_tool_cache'):\n",
    "        _tool_cache = {}\n",
    "    _tool_cache[cache_key] = step_1\n",
    "print(step_1)"
   ]
  },
  {
   "cell_type": "code",
   "execution_count": null,
   "id": "626cf35e",
   "metadata": {
    "tags": [
     "value_counts"
    ]
   },
   "outputs": [],
   "source": [
    "from ds_agent.analysis.analytics_tools import value_counts\n",
    "step_2 = None\n",
    "cache_key = ('value_counts', (('column', 'birthdate'), ('df', 'step_0')))\n",
    "if hasattr(globals(), '_tool_cache') and cache_key in _tool_cache:\n",
    "    step_2 = _tool_cache[cache_key]\n",
    "else:\n",
    "    step_2 = value_counts(df=step_0, column='birthdate')\n",
    "    if not hasattr(globals(), '_tool_cache'):\n",
    "        _tool_cache = {}\n",
    "    _tool_cache[cache_key] = step_2\n",
    "print(step_2)"
   ]
  },
  {
   "cell_type": "code",
   "execution_count": null,
   "id": "dc63f4d8",
   "metadata": {
    "tags": [
     "value_counts"
    ]
   },
   "outputs": [],
   "source": [
    "from ds_agent.analysis.analytics_tools import value_counts\n",
    "step_3 = None\n",
    "cache_key = ('value_counts', (('column', 'height'), ('df', 'step_0')))\n",
    "if hasattr(globals(), '_tool_cache') and cache_key in _tool_cache:\n",
    "    step_3 = _tool_cache[cache_key]\n",
    "else:\n",
    "    step_3 = value_counts(df=step_0, column='height')\n",
    "    if not hasattr(globals(), '_tool_cache'):\n",
    "        _tool_cache = {}\n",
    "    _tool_cache[cache_key] = step_3\n",
    "print(step_3)"
   ]
  },
  {
   "cell_type": "code",
   "execution_count": null,
   "id": "f7327c66",
   "metadata": {
    "tags": [
     "value_counts"
    ]
   },
   "outputs": [],
   "source": [
    "from ds_agent.analysis.analytics_tools import value_counts\n",
    "step_4 = None\n",
    "cache_key = ('value_counts', (('column', 'draft_year'), ('df', 'step_0')))\n",
    "if hasattr(globals(), '_tool_cache') and cache_key in _tool_cache:\n",
    "    step_4 = _tool_cache[cache_key]\n",
    "else:\n",
    "    step_4 = value_counts(df=step_0, column='draft_year')\n",
    "    if not hasattr(globals(), '_tool_cache'):\n",
    "        _tool_cache = {}\n",
    "    _tool_cache[cache_key] = step_4\n",
    "print(step_4)"
   ]
  },
  {
   "cell_type": "code",
   "execution_count": null,
   "id": "bfe2280b",
   "metadata": {
    "tags": [
     "value_counts"
    ]
   },
   "outputs": [],
   "source": [
    "from ds_agent.analysis.analytics_tools import value_counts\n",
    "step_5 = None\n",
    "cache_key = ('value_counts', (('column', 'draft_round'), ('df', 'step_0')))\n",
    "if hasattr(globals(), '_tool_cache') and cache_key in _tool_cache:\n",
    "    step_5 = _tool_cache[cache_key]\n",
    "else:\n",
    "    step_5 = value_counts(df=step_0, column='draft_round')\n",
    "    if not hasattr(globals(), '_tool_cache'):\n",
    "        _tool_cache = {}\n",
    "    _tool_cache[cache_key] = step_5\n",
    "print(step_5)"
   ]
  },
  {
   "cell_type": "code",
   "execution_count": null,
   "id": "b8346ce2",
   "metadata": {
    "tags": [
     "value_counts"
    ]
   },
   "outputs": [],
   "source": [
    "from ds_agent.analysis.analytics_tools import value_counts\n",
    "step_6 = None\n",
    "cache_key = ('value_counts', (('column', 'draft_number'), ('df', 'step_0')))\n",
    "if hasattr(globals(), '_tool_cache') and cache_key in _tool_cache:\n",
    "    step_6 = _tool_cache[cache_key]\n",
    "else:\n",
    "    step_6 = value_counts(df=step_0, column='draft_number')\n",
    "    if not hasattr(globals(), '_tool_cache'):\n",
    "        _tool_cache = {}\n",
    "    _tool_cache[cache_key] = step_6\n",
    "print(step_6)"
   ]
  },
  {
   "cell_type": "code",
   "execution_count": null,
   "id": "9a94045a",
   "metadata": {
    "tags": [
     "assign_column"
    ]
   },
   "outputs": [],
   "source": [
    "from ds_agent.analysis.analytics_tools import assign_column\n",
    "step_7 = None\n",
    "cache_key = ('assign_column', (('column', 'career_length_seasons'), ('df', 'step_0'), ('expr', \"df['to_year'] - df['from_year'] + 1\")))\n",
    "if hasattr(globals(), '_tool_cache') and cache_key in _tool_cache:\n",
    "    step_7 = _tool_cache[cache_key]\n",
    "else:\n",
    "    step_7 = assign_column(df=step_0, column='career_length_seasons', expr=\"df['to_year'] - df['from_year'] + 1\")\n",
    "    if not hasattr(globals(), '_tool_cache'):\n",
    "        _tool_cache = {}\n",
    "    _tool_cache[cache_key] = step_7\n",
    "print(step_7)"
   ]
  },
  {
   "cell_type": "code",
   "execution_count": null,
   "id": "08f7a36a",
   "metadata": {
    "tags": [
     "sort_values"
    ]
   },
   "outputs": [],
   "source": [
    "from ds_agent.analysis.analytics_tools import sort_values\n",
    "step_8 = None\n",
    "cache_key = ('sort_values', (('ascending', (False, False)), ('by', ('career_length_seasons', 'season_exp')), ('df', 'step_7')))\n",
    "if hasattr(globals(), '_tool_cache') and cache_key in _tool_cache:\n",
    "    step_8 = _tool_cache[cache_key]\n",
    "else:\n",
    "    step_8 = sort_values(df=step_7, by=['career_length_seasons', 'season_exp'], ascending=[False, False])\n",
    "    if not hasattr(globals(), '_tool_cache'):\n",
    "        _tool_cache = {}\n",
    "    _tool_cache[cache_key] = step_8\n",
    "print(step_8)"
   ]
  },
  {
   "cell_type": "code",
   "execution_count": null,
   "id": "35237cc2",
   "metadata": {
    "tags": [
     "top_n"
    ]
   },
   "outputs": [],
   "source": [
    "from ds_agent.analysis.analytics_tools import top_n\n",
    "step_9 = None\n",
    "cache_key = ('top_n', (('df', 'step_8'), ('groupby_cols', ()), ('n', 20), ('sort_col', 'career_length_seasons')))\n",
    "if hasattr(globals(), '_tool_cache') and cache_key in _tool_cache:\n",
    "    step_9 = _tool_cache[cache_key]\n",
    "else:\n",
    "    step_9 = top_n(df=step_8, groupby_cols=[], sort_col='career_length_seasons', n=20)\n",
    "    if not hasattr(globals(), '_tool_cache'):\n",
    "        _tool_cache = {}\n",
    "    _tool_cache[cache_key] = step_9\n",
    "print(step_9)"
   ]
  },
  {
   "cell_type": "code",
   "execution_count": null,
   "id": "7341526b",
   "metadata": {
    "tags": [
     "select_columns"
    ]
   },
   "outputs": [],
   "source": [
    "from ds_agent.analysis.analytics_tools import select_columns\n",
    "step_10 = None\n",
    "cache_key = ('select_columns', (('columns', ('display_first_last', 'career_length_seasons', 'season_exp', 'position', 'height', 'weight', 'draft_year', 'draft_round', 'draft_number', 'from_year', 'to_year')), ('df', 'step_9')))\n",
    "if hasattr(globals(), '_tool_cache') and cache_key in _tool_cache:\n",
    "    step_10 = _tool_cache[cache_key]\n",
    "else:\n",
    "    step_10 = select_columns(df=step_9, columns=['display_first_last', 'career_length_seasons', 'season_exp', 'position', 'height', 'weight', 'draft_year', 'draft_round', 'draft_number', 'from_year', 'to_year'])\n",
    "    if not hasattr(globals(), '_tool_cache'):\n",
    "        _tool_cache = {}\n",
    "    _tool_cache[cache_key] = step_10\n",
    "print(step_10)"
   ]
  },
  {
   "cell_type": "code",
   "execution_count": null,
   "id": "e77b2576",
   "metadata": {
    "tags": [
     "plot_bar"
    ]
   },
   "outputs": [],
   "source": [
    "from ds_agent.analysis.analytics_tools import plot_bar\n",
    "step_11 = None\n",
    "cache_key = ('plot_bar', (('df', 'step_10'), ('episode_id', 'DS-25-007'), ('title', 'Top 20 NBA Players by Career Length (Seasons) Since 1990'), ('x', 'display_first_last'), ('y', 'career_length_seasons')))\n",
    "if hasattr(globals(), '_tool_cache') and cache_key in _tool_cache:\n",
    "    step_11 = _tool_cache[cache_key]\n",
    "else:\n",
    "    step_11 = plot_bar(df=step_10, x='display_first_last', y='career_length_seasons', title='Top 20 NBA Players by Career Length (Seasons) Since 1990', episode_id='DS-25-007')\n",
    "    if not hasattr(globals(), '_tool_cache'):\n",
    "        _tool_cache = {}\n",
    "    _tool_cache[cache_key] = step_11\n",
    "print(step_11)"
   ]
  },
  {
   "cell_type": "code",
   "execution_count": null,
   "id": "d8c53a8d",
   "metadata": {
    "tags": [
     "value_counts"
    ]
   },
   "outputs": [],
   "source": [
    "from ds_agent.analysis.analytics_tools import value_counts\n",
    "step_12 = None\n",
    "cache_key = ('value_counts', (('column', 'position'), ('df', 'step_10')))\n",
    "if hasattr(globals(), '_tool_cache') and cache_key in _tool_cache:\n",
    "    step_12 = _tool_cache[cache_key]\n",
    "else:\n",
    "    step_12 = value_counts(df=step_10, column='position')\n",
    "    if not hasattr(globals(), '_tool_cache'):\n",
    "        _tool_cache = {}\n",
    "    _tool_cache[cache_key] = step_12\n",
    "print(step_12)"
   ]
  },
  {
   "cell_type": "code",
   "execution_count": null,
   "id": "2df8e039",
   "metadata": {
    "tags": [
     "plot_bar"
    ]
   },
   "outputs": [],
   "source": [
    "from ds_agent.analysis.analytics_tools import plot_bar\n",
    "step_13 = None\n",
    "cache_key = ('plot_bar', (('df', 'step_10'), ('episode_id', 'DS-25-007'), ('title', 'Position Distribution Among Top 20 Longest NBA Careers Since 1990'), ('x', 'position'), ('y', None)))\n",
    "if hasattr(globals(), '_tool_cache') and cache_key in _tool_cache:\n",
    "    step_13 = _tool_cache[cache_key]\n",
    "else:\n",
    "    step_13 = plot_bar(df=step_10, x='position', y=None, title='Position Distribution Among Top 20 Longest NBA Careers Since 1990', episode_id='DS-25-007')\n",
    "    if not hasattr(globals(), '_tool_cache'):\n",
    "        _tool_cache = {}\n",
    "    _tool_cache[cache_key] = step_13\n",
    "print(step_13)"
   ]
  },
  {
   "cell_type": "code",
   "execution_count": null,
   "id": "a9cddc4a",
   "metadata": {
    "tags": [
     "describe"
    ]
   },
   "outputs": [],
   "source": [
    "from ds_agent.analysis.analytics_tools import describe\n",
    "step_14 = None\n",
    "cache_key = ('describe', (('df', 'step_10'),))\n",
    "if hasattr(globals(), '_tool_cache') and cache_key in _tool_cache:\n",
    "    step_14 = _tool_cache[cache_key]\n",
    "else:\n",
    "    step_14 = describe(df=step_10)\n",
    "    if not hasattr(globals(), '_tool_cache'):\n",
    "        _tool_cache = {}\n",
    "    _tool_cache[cache_key] = step_14\n",
    "print(step_14)"
   ]
  },
  {
   "cell_type": "code",
   "execution_count": null,
   "id": "1a0d779e",
   "metadata": {
    "tags": [
     "generate_report"
    ]
   },
   "outputs": [],
   "source": [
    "from ds_agent.analysis.analytics_tools import generate_report\n",
    "step_15 = None\n",
    "cache_key = ('generate_report', (('describe_stats', 'step_14'), ('episode_id', 'DS-25-007'), ('goal', \"Which NBA players since 1990 have had the longest careers (by number of seasons or games played), and what are common characteristics (e.g., position, height, draft year) among them? Include a table of the top 20 players with their characteristics. Create visualizations that enhance the analysis and include them at appropriate points in the Markdown report. Exclude the players named 'Andrew Gaze' and 'Ernie Barrett' as they appear to be erroneous entries in the dataset with respect to 'from_year' and 'to_year' values.\"), ('segmentation', None), ('top_n_table', 'step_10'), ('value_counts', 'step_12')))\n",
    "if hasattr(globals(), '_tool_cache') and cache_key in _tool_cache:\n",
    "    step_15 = _tool_cache[cache_key]\n",
    "else:\n",
    "    step_15 = generate_report(goal=\"Which NBA players since 1990 have had the longest careers (by number of seasons or games played), and what are common characteristics (e.g., position, height, draft year) among them? Include a table of the top 20 players with their characteristics. Create visualizations that enhance the analysis and include them at appropriate points in the Markdown report. Exclude the players named 'Andrew Gaze' and 'Ernie Barrett' as they appear to be erroneous entries in the dataset with respect to 'from_year' and 'to_year' values.\", top_n_table=step_10, value_counts=step_12, describe_stats=step_14, segmentation=None, episode_id='DS-25-007')\n",
    "    if not hasattr(globals(), '_tool_cache'):\n",
    "        _tool_cache = {}\n",
    "    _tool_cache[cache_key] = step_15\n",
    "print(step_15)"
   ]
  },
  {
   "cell_type": "code",
   "execution_count": null,
   "id": "ee38fd06",
   "metadata": {
    "tags": [
     "set_sanity_passed"
    ]
   },
   "outputs": [],
   "source": [
    "sanity_passed = True\n",
    "print('✅ Data sanity checks passed.')"
   ]
  },
  {
   "cell_type": "code",
   "execution_count": null,
   "id": "ce3aeffd",
   "metadata": {
    "tags": [
     "print_globals"
    ]
   },
   "outputs": [],
   "source": [
    "{'sanity_passed': globals().get('sanity_passed', False)}"
   ]
  }
 ],
 "metadata": {
  "kernelspec": {
   "display_name": "Python 3",
   "language": "python",
   "name": "python3"
  }
 },
 "nbformat": 4,
 "nbformat_minor": 5
}
