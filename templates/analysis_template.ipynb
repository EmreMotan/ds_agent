{
    "cells": [
        {
            "cell_type": "markdown",
            "metadata": {},
            "source": [
                "# Analysis Report\n",
                "**Episode:** {{episode_id}}  \n",
                "**Metric:** {{metric_name}}  \n",
                "**Period:** {{start_date}} to {{end_date}}  \n"
            ]
        },
        {
            "cell_type": "code",
            "execution_count": null,
            "metadata": {
                "tags": [
                    "parameters"
                ]
            },
            "outputs": [],
            "source": [
                "# Papermill parameters\n",
                "episode_id = None\n",
                "start_date = None\n",
                "end_date = None\n",
                "metric_name = None\n",
                "sql_query = None\n"
            ]
        },
        {
            "cell_type": "markdown",
            "metadata": {},
            "source": [
                "## Data Extraction\n",
                "Run the provided SQL query and load the data.\n"
            ]
        },
        {
            "cell_type": "code",
            "execution_count": null,
            "metadata": {},
            "outputs": [],
            "source": [
                "import pandas as pd\n",
                "# Replace with actual DB connection\n",
                "# df = pd.read_sql(sql_query, db_connection)\n",
                "df = pd.DataFrame({ 'date': pd.date_range(start=start_date, end=end_date, freq='D'), 'value': [42] * ((pd.to_datetime(end_date) - pd.to_datetime(start_date)).days + 1) })\n",
                "df.head()\n"
            ]
        },
        {
            "cell_type": "markdown",
            "metadata": {},
            "source": [
                "## Data Checks\n",
                "Basic sanity checks on the data.\n"
            ]
        },
        {
            "cell_type": "code",
            "execution_count": null,
            "metadata": {},
            "outputs": [],
            "source": [
                "sanity_passed = True\n",
                "if df.empty:\n",
                "    print('❌ DataFrame is empty!')\n",
                "    sanity_passed = False\n",
                "if df['value'].isnull().any():\n",
                "    print('❌ Null values in metric!')\n",
                "    sanity_passed = False\n",
                "if sanity_passed:\n",
                "    print('✅ Data sanity checks passed.')\n",
                "else:\n",
                "    print('❌ Data sanity checks failed.')\n"
            ]
        },
        {
            "cell_type": "markdown",
            "metadata": {},
            "source": [
                "## Visualization\n",
                "Plot the metric over time.\n"
            ]
        },
        {
            "cell_type": "code",
            "execution_count": null,
            "metadata": {},
            "outputs": [],
            "source": [
                "import matplotlib.pyplot as plt\n",
                "plt.figure(figsize=(10,4))\n",
                "plt.plot(df['date'], df['value'], marker='o')\n",
                "plt.title(f'{metric_name} over time')\n",
                "plt.xlabel('Date')\n",
                "plt.ylabel(metric_name)\n",
                "plt.grid(True)\n",
                "plt.tight_layout()\n",
                "plt.show()\n"
            ]
        },
        {
            "cell_type": "markdown",
            "metadata": {},
            "source": [
                "## Findings & Next Steps\n",
                "Summarize key findings and suggest next actions.\n"
            ]
        },
        {
            "cell_type": "code",
            "execution_count": null,
            "metadata": {},
            "outputs": [],
            "source": [
                "# Example placeholder\n",
                "findings = f'Analyzed {metric_name} from {start_date} to {end_date}. Data points: {len(df)}.'\n",
                "print(findings)\n"
            ]
        }
    ],
    "metadata": {
        "kernelspec": {
            "display_name": "Python 3",
            "language": "python",
            "name": "python3"
        },
        "language_info": {
            "name": "python",
            "version": "3.10"
        }
    },
    "nbformat": 4,
    "nbformat_minor": 5
}